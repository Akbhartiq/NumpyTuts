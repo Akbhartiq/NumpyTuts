{
  "nbformat": 4,
  "nbformat_minor": 0,
  "metadata": {
    "colab": {
      "provenance": [],
      "authorship_tag": "ABX9TyOozsPH4Di/akeXhSUiyxc7",
      "include_colab_link": true
    },
    "kernelspec": {
      "name": "python3",
      "display_name": "Python 3"
    },
    "language_info": {
      "name": "python"
    }
  },
  "cells": [
    {
      "cell_type": "markdown",
      "metadata": {
        "id": "view-in-github",
        "colab_type": "text"
      },
      "source": [
        "<a href=\"https://colab.research.google.com/github/Akbhartiq/NumpyTuts/blob/master/Numpy1.ipynb\" target=\"_parent\"><img src=\"https://colab.research.google.com/assets/colab-badge.svg\" alt=\"Open In Colab\"/></a>"
      ]
    },
    {
      "cell_type": "code",
      "execution_count": null,
      "metadata": {
        "colab": {
          "base_uri": "https://localhost:8080/"
        },
        "id": "wkYWaBW-kPUg",
        "outputId": "419e0ad9-bfa7-4672-fe56-8ac0a792fa22"
      },
      "outputs": [
        {
          "output_type": "stream",
          "name": "stdout",
          "text": [
            "1.25.2\n"
          ]
        }
      ],
      "source": [
        "# Welcome to the World of Machine Learning\n",
        "# Day 1\n",
        "import numpy as np\n",
        "print(np.__version__)"
      ]
    },
    {
      "cell_type": "code",
      "source": [
        "list1=[\"Aditya Kumar Bharti\",20,\"IIT Kharagpur\"]\n",
        "print(list1)\n",
        "# Working with list when size of data is much more , the computation becomes pretty slow"
      ],
      "metadata": {
        "colab": {
          "base_uri": "https://localhost:8080/"
        },
        "id": "P2xYjc3Xkjg1",
        "outputId": "f6a0e4ac-d272-4a06-8277-49676419e44e"
      },
      "execution_count": null,
      "outputs": [
        {
          "output_type": "stream",
          "name": "stdout",
          "text": [
            "['Aditya Kumar Bharti', 20, 'IIT Kharagpur']\n"
          ]
        }
      ]
    },
    {
      "cell_type": "code",
      "source": [
        "# Get ready with numpy(Numeric Python: Same Data-Type)\n",
        "# Data-type of numpy array is ndarray (n-dimensional array)\n",
        "\n",
        "# 1st way to create numpy array\n",
        "np1=np.array([0,1,2,3,4,5])\n",
        "print(np1)\n",
        "print(type(np1))"
      ],
      "metadata": {
        "colab": {
          "base_uri": "https://localhost:8080/"
        },
        "id": "Xofoo0JalV27",
        "outputId": "cebca9cc-d682-4ae0-c77b-96c228eb1837"
      },
      "execution_count": null,
      "outputs": [
        {
          "output_type": "stream",
          "name": "stdout",
          "text": [
            "[0 1 2 3 4 5]\n",
            "<class 'numpy.ndarray'>\n"
          ]
        }
      ]
    },
    {
      "cell_type": "code",
      "source": [
        "# To get the shape of numpy array\n",
        "print(np1.shape)"
      ],
      "metadata": {
        "colab": {
          "base_uri": "https://localhost:8080/"
        },
        "id": "vnS2QYbwmDR7",
        "outputId": "92214697-bebd-41b9-be91-0b7e55427267"
      },
      "execution_count": null,
      "outputs": [
        {
          "output_type": "stream",
          "name": "stdout",
          "text": [
            "(6,)\n"
          ]
        }
      ]
    },
    {
      "cell_type": "code",
      "source": [
        "# To use the range function to create numpy array\n",
        "np2=np.arange(10)\n",
        "print(np2)\n"
      ],
      "metadata": {
        "colab": {
          "base_uri": "https://localhost:8080/"
        },
        "id": "Wy4pEdmQmWiG",
        "outputId": "3940e65f-bea2-4da3-de4d-7bfc0b303118"
      },
      "execution_count": null,
      "outputs": [
        {
          "output_type": "stream",
          "name": "stdout",
          "text": [
            "[0 1 2 3 4 5 6 7 8 9]\n"
          ]
        }
      ]
    },
    {
      "cell_type": "code",
      "source": [
        "# Better version\n",
        "start=1\n",
        "end=19\n",
        "step=3\n",
        "np3=np.arange(start,end,step)\n",
        "print(np3)\n",
        "print(np3.shape)"
      ],
      "metadata": {
        "colab": {
          "base_uri": "https://localhost:8080/"
        },
        "id": "OGeSaaT1mebr",
        "outputId": "63acc2c2-004d-4877-f7f9-4084af8bbfdb"
      },
      "execution_count": null,
      "outputs": [
        {
          "output_type": "stream",
          "name": "stdout",
          "text": [
            "[ 1  4  7 10 13 16]\n",
            "(6,)\n"
          ]
        }
      ]
    },
    {
      "cell_type": "code",
      "source": [
        "# Zero array (often use to init a numpy array)\n",
        "np4=np.zeros(10)\n",
        "print(np4)"
      ],
      "metadata": {
        "colab": {
          "base_uri": "https://localhost:8080/"
        },
        "id": "62WROhYAmlMr",
        "outputId": "ea8845e3-d396-4e48-cfde-086cb69de5e5"
      },
      "execution_count": null,
      "outputs": [
        {
          "output_type": "stream",
          "name": "stdout",
          "text": [
            "[0. 0. 0. 0. 0. 0. 0. 0. 0. 0.]\n"
          ]
        }
      ]
    },
    {
      "cell_type": "code",
      "source": [
        "# Multidimensional Zeros\n",
        "np5=np.zeros((3,4))\n",
        "print(np5)\n",
        "print(np5.shape)\n",
        "\n",
        "\n",
        "# Get the type of np.shape\n",
        "print(type(np5.shape)) #:: It is a tuple\n",
        "\n",
        "# To get the number of Elements\n",
        "def numOfElem(z):\n",
        "  numOfDim=np.ndim(z)\n",
        "  val=1\n",
        "  for i in range(numOfDim):\n",
        "    val*=z.shape[i]\n",
        "  return val\n",
        "\n",
        "\n",
        "print(f\"Number of Elements in np5 is {numOfElem(np5)}\")"
      ],
      "metadata": {
        "colab": {
          "base_uri": "https://localhost:8080/"
        },
        "id": "-eb5nLI4mrHZ",
        "outputId": "8cce4baf-df24-4cdf-d360-603a640ed1ce"
      },
      "execution_count": null,
      "outputs": [
        {
          "output_type": "stream",
          "name": "stdout",
          "text": [
            "[[0. 0. 0. 0.]\n",
            " [0. 0. 0. 0.]\n",
            " [0. 0. 0. 0.]]\n",
            "(3, 4)\n",
            "<class 'tuple'>\n",
            "Number of Elements in np5 is 12\n"
          ]
        }
      ]
    },
    {
      "cell_type": "code",
      "source": [
        "# Full function\n",
        "np6=np.full((10,3),6)\n",
        "print(np6)"
      ],
      "metadata": {
        "colab": {
          "base_uri": "https://localhost:8080/"
        },
        "id": "e0ox2onam_nO",
        "outputId": "8d844a6b-cecb-4739-b052-2d5c13e337b9"
      },
      "execution_count": null,
      "outputs": [
        {
          "output_type": "stream",
          "name": "stdout",
          "text": [
            "[[6 6 6]\n",
            " [6 6 6]\n",
            " [6 6 6]\n",
            " [6 6 6]\n",
            " [6 6 6]\n",
            " [6 6 6]\n",
            " [6 6 6]\n",
            " [6 6 6]\n",
            " [6 6 6]\n",
            " [6 6 6]]\n"
          ]
        }
      ]
    },
    {
      "cell_type": "code",
      "source": [
        "# Converting python list to numpy array\n",
        "list2=[1,2,3]\n",
        "\n",
        "np7=np.array(list2)\n",
        "print(np7)\n",
        "print(type(np7))"
      ],
      "metadata": {
        "colab": {
          "base_uri": "https://localhost:8080/"
        },
        "id": "l1RTWrdNn26g",
        "outputId": "e004f22a-8bae-432e-e5c8-c5427299da9b"
      },
      "execution_count": null,
      "outputs": [
        {
          "output_type": "stream",
          "name": "stdout",
          "text": [
            "[1 2 3]\n",
            "<class 'numpy.ndarray'>\n"
          ]
        }
      ]
    },
    {
      "cell_type": "code",
      "source": [
        "# Accessing elements\n",
        "\n",
        "# Understand the np.len function\n",
        "length=len(np7)\n",
        "print(length)\n",
        "\n",
        "# what about multi-dimensional array\n",
        "np8=np.full((2,3),4)\n",
        "length=len(np8) #Length gives you the number of elements across 0th-axis\n",
        "print(length)\n",
        "\n",
        "# Accessing  Elements\n",
        "print(np8[0,1])\n",
        "print(np7[1])"
      ],
      "metadata": {
        "colab": {
          "base_uri": "https://localhost:8080/"
        },
        "id": "74RR6kPpoPWy",
        "outputId": "3ab97c6e-8e3d-4054-de84-027c016ac5ae"
      },
      "execution_count": null,
      "outputs": [
        {
          "output_type": "stream",
          "name": "stdout",
          "text": [
            "3\n",
            "2\n",
            "4\n",
            "2\n"
          ]
        }
      ]
    },
    {
      "cell_type": "code",
      "source": [
        "# Welcome to the Day-2 of numpy array Tutorials\n",
        "\n",
        "'''We'll learn about slicing numpy arrays'''\n",
        "\n",
        "# Slcing numpy arrays\n",
        "np1=np.array([1,2,3,4,5,6,7,8,9])\n",
        "print(np1[1:5]) # Basic Idea is that np[start:end:step]\n",
        "\n"
      ],
      "metadata": {
        "colab": {
          "base_uri": "https://localhost:8080/"
        },
        "id": "1WFqFlUBobjA",
        "outputId": "295c2e33-e8ef-4b45-e56c-6dda1202f320"
      },
      "execution_count": null,
      "outputs": [
        {
          "output_type": "stream",
          "name": "stdout",
          "text": [
            "[2 3 4 5]\n"
          ]
        }
      ]
    },
    {
      "cell_type": "code",
      "source": [
        "# Reverse the np array based on the concept of the Slicing\n",
        "np2=np1[::-1]   # Negative step expect start to be higher than end\n",
        "print(np2)\n",
        "\n",
        "# 2nd Example\n",
        "np3=np1[0:3:-1]\n",
        "print(np3)"
      ],
      "metadata": {
        "colab": {
          "base_uri": "https://localhost:8080/"
        },
        "id": "acvUWpLAp8Sw",
        "outputId": "99b6fc15-0baf-4070-ad42-078b731932a8"
      },
      "execution_count": null,
      "outputs": [
        {
          "output_type": "stream",
          "name": "stdout",
          "text": [
            "[9 8 7 6 5 4 3 2 1]\n",
            "[]\n"
          ]
        }
      ]
    },
    {
      "cell_type": "code",
      "source": [
        "# Slicing a 2D array\n",
        "np4=np.array([\n",
        "    [1,2,3,4],\n",
        "    [5,6,7,8],\n",
        "    [9,10,11,12]\n",
        "])\n",
        "\n",
        "# To print 8\n",
        "print(np4[1][3])\n",
        "print(np4[1,3])\n",
        "\n",
        "# To get the 2D matrix 2,3,6,7\n",
        "print(np4[0:2,1:3])\n",
        "print(np4[0:2][1:3])\n",
        "\n",
        "\n",
        "# To get 1D matrix 4,8,12\n",
        "print(np4[:,3:]) # Notice that it is still a 2D matrix\n",
        "print((np4[:,3:]).shape)\n",
        "\n",
        "\n",
        "# To get 1D matrix\n",
        "print((np4[1]).shape) #This is 1D matrix\n"
      ],
      "metadata": {
        "colab": {
          "base_uri": "https://localhost:8080/"
        },
        "id": "-MEwcnp_qn8x",
        "outputId": "c44f6f05-338f-42e0-c4b2-e4e7e785aba4"
      },
      "execution_count": null,
      "outputs": [
        {
          "output_type": "stream",
          "name": "stdout",
          "text": [
            "8\n",
            "8\n",
            "[[2 3]\n",
            " [6 7]]\n",
            "[[5 6 7 8]]\n",
            "[[ 4]\n",
            " [ 8]\n",
            " [12]]\n",
            "[]\n",
            "(3, 1)\n",
            "(4,)\n"
          ]
        }
      ]
    },
    {
      "cell_type": "code",
      "source": [
        "# Welcome to the Day-3\n",
        "# Universal Functions in Numpy\n",
        "'''The Functions that we will be learning over here will be something like which will be kind of iterate\n",
        "over each Element in the numpy array and do some operation to that element and return a new numpy array'''\n",
        "\n",
        "# Finding square root of each element in the array\n",
        "import numpy as np\n",
        "np1=np.array([1,-2,3,4])\n",
        "np2=np.sqrt(np1)\n",
        "print(np2)\n",
        "\n",
        "# Finding the e raised to element\n",
        "np3=np.exp(np1)\n",
        "print(np3)\n",
        "\n"
      ],
      "metadata": {
        "colab": {
          "base_uri": "https://localhost:8080/"
        },
        "id": "0O0piiYfu1Om",
        "outputId": "82200bc9-b4a5-40e2-b234-e43fd20d7d31"
      },
      "execution_count": null,
      "outputs": [
        {
          "output_type": "stream",
          "name": "stdout",
          "text": [
            "[1.                nan 1.73205081 2.        ]\n",
            "[ 2.71828183  0.13533528 20.08553692 54.59815003]\n"
          ]
        },
        {
          "output_type": "stream",
          "name": "stderr",
          "text": [
            "<ipython-input-4-84f74555b76e>:9: RuntimeWarning: invalid value encountered in sqrt\n",
            "  np2=np.sqrt(np1)\n"
          ]
        }
      ]
    },
    {
      "cell_type": "code",
      "source": [
        "# To get the absolute value\n",
        "np4=np.absolute(np1)\n",
        "print(np4)"
      ],
      "metadata": {
        "colab": {
          "base_uri": "https://localhost:8080/"
        },
        "id": "bIBg4sPSTaHo",
        "outputId": "4cc0545a-a8f1-445e-9749-acd01de8b7b4"
      },
      "execution_count": null,
      "outputs": [
        {
          "output_type": "stream",
          "name": "stdout",
          "text": [
            "[1 2 3 4]\n"
          ]
        }
      ]
    },
    {
      "cell_type": "code",
      "source": [
        "# Functions with one ret value\n",
        "\n",
        "# Min/max\n",
        "minimum=np.min(np1)\n",
        "maximum=np.max(np1)\n",
        "\n",
        "print(f\"Minimum Value is {minimum}\")\n",
        "print(f\"Maximum Value is {maximum}\")\n",
        "\n",
        "\n",
        "# Index Corresponding to min/max value\n",
        "min_index=np.argmin(np1)\n",
        "max_index=np.argmax(np1)\n",
        "\n",
        "print(f\"Index Corresponding to min value is {min_index}\")\n",
        "print(f\"Index Corresponding to max value is {max_index}\")\n",
        "\n",
        "\n",
        "# To get the sum of all Elements\n",
        "sum=np.sum(np1)\n",
        "print(f\"Sum of all Elements is {sum}\")"
      ],
      "metadata": {
        "colab": {
          "base_uri": "https://localhost:8080/"
        },
        "id": "7jAzjWNlT3__",
        "outputId": "19b0fe5f-f9ca-42e1-8ebe-1eaee7246244"
      },
      "execution_count": null,
      "outputs": [
        {
          "output_type": "stream",
          "name": "stdout",
          "text": [
            "Minimum Value is -2\n",
            "Maximum Value is 4\n",
            "Index Corresponding to min value is 1\n",
            "Index Corresponding to max value is 3\n",
            "Sum of all Elements is 6\n"
          ]
        }
      ]
    },
    {
      "cell_type": "code",
      "source": [
        "# To get the sign of all Elements\n",
        "'''-1 for Negative\n",
        "    0 for Zeros\n",
        "    1 for positive\n",
        "    Values   '''\n",
        "\n",
        "sign_arr=np.sign(np1)\n",
        "print(sign_arr)"
      ],
      "metadata": {
        "colab": {
          "base_uri": "https://localhost:8080/"
        },
        "id": "2bQKVcjSUXz2",
        "outputId": "a3ad9692-7c97-4579-9217-06a3eaf3bd12"
      },
      "execution_count": null,
      "outputs": [
        {
          "output_type": "stream",
          "name": "stdout",
          "text": [
            "[ 1 -1  1  1]\n"
          ]
        }
      ]
    },
    {
      "cell_type": "code",
      "source": [
        "# Trigo functions\n",
        "np1=np.array([1.577,3.14])\n",
        "print(np.sin(np1))\n",
        "print(np.cos(np1))\n",
        "print(np.tan(np1))"
      ],
      "metadata": {
        "colab": {
          "base_uri": "https://localhost:8080/"
        },
        "id": "OODUxvOMVDYe",
        "outputId": "ca2de2d8-427e-4ef4-a47f-7649e67a82f8"
      },
      "execution_count": null,
      "outputs": [
        {
          "output_type": "stream",
          "name": "stdout",
          "text": [
            "[0.99998076 0.00159265]\n",
            "[-0.00620363 -0.99999873]\n",
            "[-1.61192754e+02 -1.59265494e-03]\n"
          ]
        }
      ]
    },
    {
      "cell_type": "code",
      "source": [
        "# To calculat log\n",
        "np1=np.array([10,1])\n",
        "np2=np.array([2.73,1])\n",
        "print(np.log(np1))\n",
        "print(np.log(np2))"
      ],
      "metadata": {
        "colab": {
          "base_uri": "https://localhost:8080/"
        },
        "id": "nX38kvsEVRby",
        "outputId": "bb4539ba-0215-4b7c-b24f-5dbb5b1138be"
      },
      "execution_count": null,
      "outputs": [
        {
          "output_type": "stream",
          "name": "stdout",
          "text": [
            "[2.30258509 0.        ]\n",
            "[1.00430161 0.        ]\n"
          ]
        }
      ]
    },
    {
      "cell_type": "markdown",
      "source": [
        "**Ref-to-doc:**https://numpy.org/doc/stable/reference/ufuncs.html#ufuncs\n"
      ],
      "metadata": {
        "id": "TO8tygJJW6Eh"
      }
    },
    {
      "cell_type": "code",
      "source": [
        "# Welcome to the Day-4\n",
        "# Copy vs View\n",
        "'''Copy: simply copy of the Original Array\n",
        "   View: It is connected to the Original Array'''\n",
        "\n",
        "\n",
        "import numpy as np\n",
        "np1=np.array([1,2,3,4,5])\n",
        "\n",
        "# Create a view\n",
        "np2=np1.view()\n",
        "\n",
        "print(f\"Original np1: {np1}\")\n",
        "print(f\"Original np2: {np2}\")\n",
        "\n",
        "np1[0]=10\n",
        "\n",
        "print(f\"Changed np1: {np1}\")\n",
        "print(f\"Original np2: {np2}\")"
      ],
      "metadata": {
        "colab": {
          "base_uri": "https://localhost:8080/"
        },
        "id": "YqqqOddCW_Sv",
        "outputId": "f2f7f9b6-20e0-4044-d52d-8a9a33c8a56a"
      },
      "execution_count": null,
      "outputs": [
        {
          "output_type": "stream",
          "name": "stdout",
          "text": [
            "Original np1: [1 2 3 4 5]\n",
            "Original np2: [1 2 3 4 5]\n",
            "Changed np1: [10  2  3  4  5]\n",
            "Original np2: [10  2  3  4  5]\n"
          ]
        }
      ]
    },
    {
      "cell_type": "code",
      "source": [
        "# Create a copy\n",
        "np1[0]=1\n",
        "\n",
        "np3=np1.copy()\n",
        "\n",
        "print(f\"Original np1: {np1}\")\n",
        "print(f\"Original np3: {np3}\")\n",
        "\n",
        "np1[0]=10\n",
        "\n",
        "print(f\"Changed np1: {np1}\")\n",
        "print(f\"Original np3: {np3}\")"
      ],
      "metadata": {
        "colab": {
          "base_uri": "https://localhost:8080/"
        },
        "id": "hiZLfPhPYRZv",
        "outputId": "87f633ad-4971-4df5-cd80-ab8807e7d109"
      },
      "execution_count": null,
      "outputs": [
        {
          "output_type": "stream",
          "name": "stdout",
          "text": [
            "Original np1: [1 2 3 4 5]\n",
            "Original np3: [1 2 3 4 5]\n",
            "Changed np1: [10  2  3  4  5]\n",
            "Original np3: [1 2 3 4 5]\n"
          ]
        }
      ]
    },
    {
      "cell_type": "code",
      "source": [
        "# Let's try to change the view and see its effects on original array\n",
        "np2[0]=100\n",
        "\n",
        "print(f\"Changed np2: {np2}\")\n",
        "print(f\"Original np1: {np1}\")"
      ],
      "metadata": {
        "colab": {
          "base_uri": "https://localhost:8080/"
        },
        "id": "QaJXB_75YsXm",
        "outputId": "91ae3e62-2205-44ce-9e7a-27306cd3f970"
      },
      "execution_count": null,
      "outputs": [
        {
          "output_type": "stream",
          "name": "stdout",
          "text": [
            "Changed np2: [100   2   3   4   5]\n",
            "Original np1: [100   2   3   4   5]\n"
          ]
        }
      ]
    },
    {
      "cell_type": "code",
      "source": [
        "# Welcome to the Day-5\n",
        "'''Today we will learn about the shape and the reshape'''\n",
        "\n",
        "import numpy as np\n",
        "\n",
        "# Create 1D array and get its shape\n",
        "np1=np.arange(10)\n",
        "print(np1.shape)"
      ],
      "metadata": {
        "colab": {
          "base_uri": "https://localhost:8080/"
        },
        "id": "4v2cda8BY57z",
        "outputId": "7a0976dc-8897-44de-aa00-553bdba7312c"
      },
      "execution_count": null,
      "outputs": [
        {
          "output_type": "stream",
          "name": "stdout",
          "text": [
            "(10,)\n"
          ]
        }
      ]
    },
    {
      "cell_type": "code",
      "source": [
        "# Create 2D array and get its shape\n",
        "np2=np.random.randint(10,21,size=(3,4))\n",
        "print(np2)\n",
        "print(np2.shape)"
      ],
      "metadata": {
        "colab": {
          "base_uri": "https://localhost:8080/"
        },
        "id": "sIOxshPzZY4v",
        "outputId": "52e33ba1-f29e-4f68-d287-c7a30782296b"
      },
      "execution_count": null,
      "outputs": [
        {
          "output_type": "stream",
          "name": "stdout",
          "text": [
            "[[12 13 13 20]\n",
            " [11 17 18 16]\n",
            " [17 12 14 17]]\n",
            "(3, 4)\n"
          ]
        }
      ]
    },
    {
      "cell_type": "code",
      "source": [
        "# Reshape into 2D array\n",
        "np3=np1.reshape(2,5)\n",
        "print(np3)\n",
        "print(np3.shape)"
      ],
      "metadata": {
        "colab": {
          "base_uri": "https://localhost:8080/"
        },
        "id": "065kF_lmaLDg",
        "outputId": "e4f20986-3ba3-4308-91c6-16902be96791"
      },
      "execution_count": null,
      "outputs": [
        {
          "output_type": "stream",
          "name": "stdout",
          "text": [
            "[[0 1 2 3 4]\n",
            " [5 6 7 8 9]]\n",
            "(2, 5)\n"
          ]
        }
      ]
    },
    {
      "cell_type": "code",
      "source": [
        "# Reshape into 3D array\n",
        "np4=np2.reshape(2,2,3)\n",
        "print(np4)\n",
        "print(np4.shape)"
      ],
      "metadata": {
        "colab": {
          "base_uri": "https://localhost:8080/"
        },
        "id": "XrkEOet7ache",
        "outputId": "1e546d27-2dfb-4baf-d54d-f21107ecfb9d"
      },
      "execution_count": null,
      "outputs": [
        {
          "output_type": "stream",
          "name": "stdout",
          "text": [
            "[[[12 13 13]\n",
            "  [20 11 17]]\n",
            "\n",
            " [[18 16 17]\n",
            "  [12 14 17]]]\n",
            "(2, 2, 3)\n"
          ]
        }
      ]
    },
    {
      "cell_type": "code",
      "source": [
        "# Flatten to 1D\n",
        "np5=np4.reshape(-1) #-1: only one param so 1-dimensional now get the number of elements that will be dimension\n",
        "print(np5)\n",
        "print(np5.shape)"
      ],
      "metadata": {
        "colab": {
          "base_uri": "https://localhost:8080/"
        },
        "id": "PV08UD87arc9",
        "outputId": "d9ec5b71-2870-4e0c-f354-17d83b55bc77"
      },
      "execution_count": null,
      "outputs": [
        {
          "output_type": "stream",
          "name": "stdout",
          "text": [
            "[12 13 13 20 11 17 18 16 17 12 14 17]\n",
            "(12,)\n"
          ]
        }
      ]
    },
    {
      "cell_type": "code",
      "source": [
        "# Flatten to 2D\n",
        "np6=np4.reshape(-1,3) # Here we got 2Dimesions with 3 cols and value of -1 =4\n",
        "print(np6)\n",
        "print(np6.shape)"
      ],
      "metadata": {
        "colab": {
          "base_uri": "https://localhost:8080/"
        },
        "id": "EcUubnrgbQh_",
        "outputId": "070e5211-40f1-4c92-9b96-be2a92c5b0fe"
      },
      "execution_count": null,
      "outputs": [
        {
          "output_type": "stream",
          "name": "stdout",
          "text": [
            "[[12 13 13]\n",
            " [20 11 17]\n",
            " [18 16 17]\n",
            " [12 14 17]]\n",
            "(4, 3)\n"
          ]
        }
      ]
    },
    {
      "cell_type": "code",
      "source": [
        "# Welcome to the Day-6\n",
        "'''Iteration through the Elements in Numpy array'''\n",
        "\n",
        "# Basic one(Don't work for multi-Dimensional array)\n",
        "def iterate1(z):\n",
        "  for val in z:\n",
        "    print(val)\n",
        "\n",
        "\n",
        "# Bit tougher to write-as you don't know how many for-loop to be added\n",
        "def iterate2(z):\n",
        "  ndim=np.ndim(z)\n",
        "  shape=z.shape\n",
        "  for i in range(shape[0]):\n",
        "    pass\n",
        "\n",
        "# Can we write a Recursive one\n",
        "def iterate3(z):\n",
        "  ndim=np.ndim(z)\n",
        "  shape=z.shape\n",
        "  if ndim==1:\n",
        "    for val in z:\n",
        "      print(val)\n",
        "  else:\n",
        "    for val in z:\n",
        "      iterate3(val)\n",
        "\n",
        "\n",
        "import numpy as np\n",
        "np1=np.random.randint(10,21,size=(3,4))\n",
        "print(\"Iteration1 Begin\")\n",
        "iterate1(np1)\n",
        "print(\"Iteration1 End\")\n",
        "\n",
        "print(\"Iteration3 Begin\")\n",
        "iterate3(np1)\n",
        "print(\"Iteration3 End\")"
      ],
      "metadata": {
        "colab": {
          "base_uri": "https://localhost:8080/"
        },
        "id": "lnBK9g1ob5jB",
        "outputId": "249105da-d5dc-4051-8bf3-d05c4860e119"
      },
      "execution_count": null,
      "outputs": [
        {
          "output_type": "stream",
          "name": "stdout",
          "text": [
            "Iteration1 Begin\n",
            "[17 18 20 10]\n",
            "[11 19 11 12]\n",
            "[18 14 20 20]\n",
            "Iteration1 End\n",
            "Iteration3 Begin\n",
            "17\n",
            "18\n",
            "20\n",
            "10\n",
            "11\n",
            "19\n",
            "11\n",
            "12\n",
            "18\n",
            "14\n",
            "20\n",
            "20\n",
            "Iteration3 End\n"
          ]
        }
      ]
    },
    {
      "cell_type": "code",
      "source": [
        "# using numpy iterator to do so\n",
        "def iterate4(z):\n",
        "  for x in np.nditer(z):\n",
        "    print(x)\n",
        "\n",
        "iterate4(np1)"
      ],
      "metadata": {
        "colab": {
          "base_uri": "https://localhost:8080/"
        },
        "id": "UQp83doUcain",
        "outputId": "8923d722-3850-4584-f8cb-4dee237a2dfe"
      },
      "execution_count": null,
      "outputs": [
        {
          "output_type": "stream",
          "name": "stdout",
          "text": [
            "17\n",
            "18\n",
            "20\n",
            "10\n",
            "11\n",
            "19\n",
            "11\n",
            "12\n",
            "18\n",
            "14\n",
            "20\n",
            "20\n"
          ]
        }
      ]
    },
    {
      "cell_type": "code",
      "source": [
        "# Welcome to the Day-7\n",
        "'''Sorting Numpy arrays'''\n",
        "import numpy as np\n",
        "np1=np.array([3,2,9,4,2,-1])\n",
        "np2=np.sort(np1)\n",
        "\n",
        "print(np1)\n",
        "print(np2)"
      ],
      "metadata": {
        "colab": {
          "base_uri": "https://localhost:8080/"
        },
        "id": "V1DMg71hfm0m",
        "outputId": "dc0dd017-f13a-400a-a65d-b6306836f024"
      },
      "execution_count": null,
      "outputs": [
        {
          "output_type": "stream",
          "name": "stdout",
          "text": [
            "[ 3  2  9  4  2 -1]\n",
            "[-1  2  2  3  4  9]\n"
          ]
        }
      ]
    },
    {
      "cell_type": "code",
      "source": [
        "# Sorting 2D array (Sort each particular row, sort along last axis)\n",
        "np3=np.random.randint(10,21,size=(3,4))\n",
        "\n",
        "print(np.sort(np3))"
      ],
      "metadata": {
        "colab": {
          "base_uri": "https://localhost:8080/"
        },
        "id": "aylzkJ3MgWR1",
        "outputId": "0bb69a1a-3dc8-480a-dc33-c764ef52b0d5"
      },
      "execution_count": null,
      "outputs": [
        {
          "output_type": "stream",
          "name": "stdout",
          "text": [
            "[[13 17 17 19]\n",
            " [10 11 12 15]\n",
            " [13 15 17 20]]\n"
          ]
        }
      ]
    },
    {
      "cell_type": "code",
      "source": [
        "# Similar Things we can do with Names\n",
        "np4=np.array([\"Aditya\",\"John\",\"Ashish\",\"Harry\"])\n",
        "print(np.sort(np4))"
      ],
      "metadata": {
        "colab": {
          "base_uri": "https://localhost:8080/"
        },
        "id": "Y7n0EJp2g1ZE",
        "outputId": "1ed5014b-aed4-490f-cca7-468ffe611309"
      },
      "execution_count": null,
      "outputs": [
        {
          "output_type": "stream",
          "name": "stdout",
          "text": [
            "['Aditya' 'Ashish' 'Harry' 'John']\n"
          ]
        }
      ]
    },
    {
      "cell_type": "code",
      "source": [
        "# Bool\n",
        "np5=np.array([True,False,True,False])\n",
        "print(np5)\n",
        "print(np.sort(np5))"
      ],
      "metadata": {
        "colab": {
          "base_uri": "https://localhost:8080/"
        },
        "id": "-B-dbwF6hmOK",
        "outputId": "a3b02b50-09db-44fd-ae49-4afdc7cfb18b"
      },
      "execution_count": null,
      "outputs": [
        {
          "output_type": "stream",
          "name": "stdout",
          "text": [
            "[ True False  True False]\n",
            "[False False  True  True]\n"
          ]
        }
      ]
    },
    {
      "cell_type": "code",
      "source": [
        "# Note: Sorting doesn't change the original\n",
        "print(np5)"
      ],
      "metadata": {
        "colab": {
          "base_uri": "https://localhost:8080/"
        },
        "id": "pS5jEK4DhsqI",
        "outputId": "ee742037-6096-4daa-d9ca-4fb396c470a3"
      },
      "execution_count": null,
      "outputs": [
        {
          "output_type": "stream",
          "name": "stdout",
          "text": [
            "[ True False  True False]\n"
          ]
        }
      ]
    },
    {
      "cell_type": "code",
      "source": [
        "# Welcome to the Day-08\n",
        "'''Searching Elements in numpy array'''\n",
        "\n",
        "import numpy as np\n",
        "\n",
        "#Search\n",
        "np1=np.array([1,2,3,4,5,3,7,8,9])\n",
        "\n",
        "x=np.where(np1==3) #Iterate over array and returs indices where Element is 3\n",
        "print(x[0])\n",
        "print(len(x))\n",
        "print(type(x))\n",
        "print(np1[x[0]])"
      ],
      "metadata": {
        "colab": {
          "base_uri": "https://localhost:8080/"
        },
        "id": "MdHQfRKKh2EH",
        "outputId": "f9f036dd-aafd-47bb-da2e-91f80f4207c3"
      },
      "execution_count": null,
      "outputs": [
        {
          "output_type": "stream",
          "name": "stdout",
          "text": [
            "[2 5]\n",
            "1\n",
            "<class 'tuple'>\n",
            "[3 3]\n"
          ]
        }
      ]
    },
    {
      "cell_type": "code",
      "source": [
        "# Searching in 2D arrays\n",
        "np2=np.array([\n",
        "    [1,3,1],\n",
        "    [2,3,1]\n",
        "])\n",
        "\n",
        "x=np.where(np2==3)\n",
        "print(x)\n",
        "print(len(x))\n",
        "print(type(x))\n",
        "\n",
        "\n",
        "# So you wanna get the Exact index\n",
        "print(f\"Index of 3 in np2 is {x[0][0]},{x[1][0]}\")"
      ],
      "metadata": {
        "colab": {
          "base_uri": "https://localhost:8080/"
        },
        "id": "MRVsnwi8igm3",
        "outputId": "d72baa02-3fb1-4f2d-be3f-17ff508c3cc8"
      },
      "execution_count": null,
      "outputs": [
        {
          "output_type": "stream",
          "name": "stdout",
          "text": [
            "(array([0, 1]), array([1, 1]))\n",
            "2\n",
            "<class 'tuple'>\n",
            "Index of 3 in np2 is 0,1\n"
          ]
        }
      ]
    },
    {
      "cell_type": "code",
      "source": [
        "# Get the pos of Even numbers\n",
        "x=np.where(np1 %2==0)\n",
        "print(x)"
      ],
      "metadata": {
        "colab": {
          "base_uri": "https://localhost:8080/"
        },
        "id": "11tIM8SmjgWt",
        "outputId": "d608f2f9-4b4f-4583-8206-5052e4e39c2f"
      },
      "execution_count": null,
      "outputs": [
        {
          "output_type": "stream",
          "name": "stdout",
          "text": [
            "(array([1, 3, 7]),)\n"
          ]
        }
      ]
    },
    {
      "cell_type": "code",
      "source": [
        "# Get the pos of Odd Numbers\n",
        "x=np.where(np1 %2==1)\n",
        "print(x)"
      ],
      "metadata": {
        "colab": {
          "base_uri": "https://localhost:8080/"
        },
        "id": "6q-R039vlH8y",
        "outputId": "e7d5a220-3ac6-4cd2-8509-bb61922968b5"
      },
      "execution_count": null,
      "outputs": [
        {
          "output_type": "stream",
          "name": "stdout",
          "text": [
            "(array([0, 2, 4, 5, 6, 8]),)\n"
          ]
        }
      ]
    },
    {
      "cell_type": "code",
      "source": [
        "# Welcome to the Day-09\n",
        "'''Filterring Numpy arrays'''\n",
        "import numpy as np\n",
        "np1=np.array([1,2,3,4,5,6,7,8,9,10])\n",
        "x1=[True,False,True,False,True,False,True,False,True,True] #True:Get , False:don't get\n",
        "x2=[1,0,1,0,1,0,1,0,1,1] #This won't work\n",
        "print(np1[x1])\n",
        "print(np1[x2])"
      ],
      "metadata": {
        "colab": {
          "base_uri": "https://localhost:8080/"
        },
        "id": "QduZMf6jlNl9",
        "outputId": "534fc6fa-3d68-415c-f8d4-5102b5a9b45c"
      },
      "execution_count": null,
      "outputs": [
        {
          "output_type": "stream",
          "name": "stdout",
          "text": [
            "[ 1  3  5  7  9 10]\n",
            "[2 1 2 1 2 1 2 1 2 2]\n"
          ]
        }
      ]
    },
    {
      "cell_type": "code",
      "source": [
        "# Filterring even numbers\n",
        "x=np1%2==0\n",
        "print(x)"
      ],
      "metadata": {
        "colab": {
          "base_uri": "https://localhost:8080/"
        },
        "id": "HC6naxrBl7cc",
        "outputId": "76aa627f-3601-4f43-de6d-522dec5caac3"
      },
      "execution_count": null,
      "outputs": [
        {
          "output_type": "stream",
          "name": "stdout",
          "text": [
            "[False  True False  True False  True False  True False  True]\n"
          ]
        }
      ]
    },
    {
      "cell_type": "code",
      "source": [],
      "metadata": {
        "id": "Aik_tLrKmfc2"
      },
      "execution_count": null,
      "outputs": []
    }
  ]
}